{
 "metadata": {
  "language_info": {
   "codemirror_mode": {
    "name": "ipython",
    "version": 3
   },
   "file_extension": ".py",
   "mimetype": "text/x-python",
   "name": "python",
   "nbconvert_exporter": "python",
   "pygments_lexer": "ipython3",
   "version": "3.7.7-final"
  },
  "orig_nbformat": 2,
  "kernelspec": {
   "name": "Python 3.7.7 64-bit ('process': conda)",
   "display_name": "Python 3.7.7 64-bit ('process': conda)",
   "metadata": {
    "interpreter": {
     "hash": "6c267897c9ea3968b68ec7674e4c92fae812629b6d224e90202d95afe684005c"
    }
   }
  }
 },
 "nbformat": 4,
 "nbformat_minor": 2,
 "cells": [
  {
   "source": [
    "# SVG\n",
    "\n",
    "The shape of a `<path>` element is defined by one parameter: `d`. (See more in basic shapes.) The `d` attribute contains a series of commands and parameters used by those commands.\n",
    "\n",
    "Each of the commands is instantiated (for example, creating a class, naming and locating it) by a specific letter. For instance, let's move to the `x` and `y` coordinates `(10, 10)`. The \"Move to\" command is called with the letter `M`. When the parser runs into this letter, it knows it needs to move to a point. So, to move to `(10,10)` the command to use would be `M 10 10`. After that, the parser begins reading for the next command."
   ],
   "cell_type": "markdown",
   "metadata": {}
  },
  {
   "source": [
    "# Structure\n",
    "\n",
    "A triangle is made of $3$ vertices $v1, v2, v3$ where $(v1, v2)$ and $(v2, v3)$ are equal segments.\n",
    "\n",
    "* The big triangle has side ratio $1 : 1 : \\phi$, with $\\phi := \\frac{\\sqrt(5) + 1}{2}$.\n",
    "* The small triangle has side ratio $1 : 1 : \\psi$, where $\\psi := \\frac{\\sqrt(5) - 1}{2}$.\n"
   ],
   "cell_type": "markdown",
   "metadata": {}
  },
  {
   "cell_type": "code",
   "execution_count": 33,
   "metadata": {},
   "outputs": [],
   "source": [
    "import math\n",
    "\n",
    "PSI = (math.sqrt(5) - 1) / 2\n",
    "PSI_2 = 1 - PSI\n",
    "\n",
    "class Triangle:\n",
    "    def __init__(self, v1, v2, v3):\n",
    "        self.v1 = v1\n",
    "        self.v2 = v2\n",
    "        self.v3 = v3\n",
    "\n",
    "    @property\n",
    "    def d(self):\n",
    "        side_l, side_r = self.v2 - self.v1, self.v3 - self.v2 \n",
    "\n",
    "        d = \"m {}, {} \".format(self.v1[0], self.v1[1])\n",
    "        d += \"l {}, {} \".format(side_l[0], side_l[1])\n",
    "        d += \"l {}, {} \".format(side_r[0], side_r[1])\n",
    "        d += \"l {}, {}z\".format(-side_l[0], -side_l[1])\n",
    "\n",
    "        return d\n",
    "\n",
    "    @property\n",
    "    def center(self):\n",
    "        return (self.v1 + self.v3)/2\n",
    "        \n",
    "class Biggy(Triangle):\n",
    "\n",
    "    def split(self):\n",
    "        s1 = PSI_2 * self.v1 + PSI * self.v3\n",
    "        s2 = PSI_2 * self.v1 + PSI * self.v2\n",
    "\n",
    "        return (Biggy(s1, s2, self.v1),\n",
    "                Tiny(s2, s1, self.v2),\n",
    "                Biggy(self.v3, s1, self.v2))\n",
    "\n",
    "class Tiny(Triangle):\n",
    "\n",
    "    def split(self):\n",
    "        s1 = PSI * self.v1 + PSI_2 * self.v2\n",
    "\n",
    "        return (Tiny(s1, self.v3, self.v1),\n",
    "                Biggy(self.v3, s1, self.v2))"
   ]
  },
  {
   "cell_type": "code",
   "execution_count": 34,
   "metadata": {},
   "outputs": [],
   "source": [
    "def create(intial_tiling=None, depth=5):\n",
    "    if intial_tiling is None:\n",
    "        pass\n",
    "    \n",
    "    tiling = intial_tiling\n",
    "\n",
    "    for i in range(depth):\n",
    "        elems = []\n",
    "        for elem in tiling:\n",
    "            elems.extend(elem.split())\n",
    "        tiling = elems\n",
    "\n",
    "    # Remove duplicates based on their romboid center\n",
    "    selements = sorted(tiling, key=lambda elem: ())\n",
    "    tiling = [selements[0]]\n",
    "    for i, element in enumerate(selements[1:], start=1):\n",
    "        if abs(element.centre() - selements[i-1].centre()) > TOL:\n",
    "            self.elements.append(element)\n",
    "\n",
    "    return tiling\n",
    "    "
   ]
  },
  {
   "source": [
    "# SVG Generation"
   ],
   "cell_type": "markdown",
   "metadata": {}
  },
  {
   "cell_type": "code",
   "execution_count": 46,
   "metadata": {},
   "outputs": [],
   "source": [
    "\n",
    "import numpy as np\n",
    "\n",
    "TILE_COLOR = \"green\"\n",
    "DEPTH = 5\n",
    "BASE_STROKE = 10\n",
    "STROKE_WIDTH = str(PSI ** DEPTH * SCALE * BASE_STROKE)\n",
    "STROKE_COLOR = \"pink\"\n",
    "SCALE = 100\n",
    "MARGIN = 10\n",
    "\n",
    "xmin = ymin = - SCALE * MARGIN\n",
    "width =  height = 2 * SCALE * MARGIN\n",
    "viewbox ='{} {} {} {}'.format(xmin, ymin, width, height)\n",
    "\n",
    "svg = ['<?xml version=\"1.0\" encoding=\"utf-8\"?>']   \n",
    "svg.append('<svg width=\"100%\" height=\"100%\" viewBox=\"{}\"'.format(viewbox))\n",
    "svg.append(' preserveAspectRatio=\"xMidYMid meet\" version=\"1.1\" baseProfile=\"full\" xmlns=\"http://www.w3.org/2000/svg\">') \n",
    "\n",
    "svg.append('<g style=\"stroke:{}; stroke-width: {};\">'.format(STROKE_COLOR, STROKE_WIDTH))\n",
    "\n",
    "theta = 2 * math.pi / 5\n",
    "rot = np.array([math.cos(theta), math.sin(theta)])\n",
    "v1 = np.array([-SCALE/2, 0])\n",
    "v2 = SCALE/2 * rot\n",
    "v3 = np.array([SCALE/2/ PSI, 0])\n",
    "\n",
    "tiling = create(intial_tiling=[Biggy(v1, v2, v3)], depth=DEPTH)\n",
    "\n",
    "for elem in tiling:\n",
    "    svg.append('<path fill=\"{}\" opacity=\"{}\" d=\"{}\"/>'.format(TILE_COLOR , 0.3, elem.d))\n",
    "\n",
    "svg.append('</g>\\n</svg>')\n",
    "svg = '\\n'.join(svg)\n",
    "\n",
    "with open(\"e1.svg\", 'w') as fo:\n",
    "    fo.write(svg)"
   ]
  },
  {
   "cell_type": "code",
   "execution_count": null,
   "metadata": {},
   "outputs": [],
   "source": []
  },
  {
   "cell_type": "code",
   "execution_count": null,
   "metadata": {},
   "outputs": [],
   "source": []
  }
 ]
}